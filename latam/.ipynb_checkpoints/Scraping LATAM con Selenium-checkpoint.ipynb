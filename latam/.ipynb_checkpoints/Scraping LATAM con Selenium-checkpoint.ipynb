{
 "cells": [
  {
   "cell_type": "markdown",
   "metadata": {},
   "source": [
    "Vamos a scrapear el sitio de LATAM para averiguar datos de vuelos en funcion al origen y destino, fecha y cabina. La informacion que esperamos obtener de cada vuelo es:\n",
    "\n",
    "- Precio(s) disponibles\n",
    "- Horas de salida y llegada (duracion)\n",
    "- Informacion de las escalas"
   ]
  },
  {
   "cell_type": "code",
   "execution_count": 10,
   "metadata": {},
   "outputs": [],
   "source": [
    "import requests\n",
    "from bs4 import BeautifulSoup"
   ]
  },
  {
   "cell_type": "code",
   "execution_count": 11,
   "metadata": {},
   "outputs": [],
   "source": [
    "url = 'https://www.latam.com/es_mx/apps/personas/booking?fecha1_dia=12&fecha1_anomes=2020-10&fecha2_dia=14&fecha2_anomes=2020-10&from_city2=MAD&to_city2=BUE&auAvailability=1&ida_vuelta=ida_vuelta&vuelos_origen=Buenos%20Aires&from_city1=BUE&vuelos_destino=Madrid&to_city1=MAD&flex=1&vuelos_fecha_salida_ddmmaaaa=11/10/2020&vuelos_fecha_regreso_ddmmaaaa=11/10/2020&cabina=Y&nadults=1&nchildren=0&ninfants=0&cod_promo=&stopover_outbound_days=0&stopover_inbound_days=0&application=#/'"
   ]
  },
  {
   "cell_type": "code",
   "execution_count": 12,
   "metadata": {},
   "outputs": [],
   "source": [
    "agent = {\"User-Agent\":\"Mozilla/5.0\"}\n",
    "r = requests.get(url, headers=agent)\n",
    "#r = requests.get(url)"
   ]
  },
  {
   "cell_type": "code",
   "execution_count": 13,
   "metadata": {},
   "outputs": [
    {
     "data": {
      "text/plain": [
       "200"
      ]
     },
     "execution_count": 13,
     "metadata": {},
     "output_type": "execute_result"
    }
   ],
   "source": [
    "r.status_code"
   ]
  },
  {
   "cell_type": "code",
   "execution_count": 14,
   "metadata": {},
   "outputs": [],
   "source": [
    "s = BeautifulSoup(r.text, 'lxml')"
   ]
  },
  {
   "cell_type": "code",
   "execution_count": 15,
   "metadata": {},
   "outputs": [
    {
     "name": "stdout",
     "output_type": "stream",
     "text": [
      "<!DOCTYPE html>\n",
      "<html lang=\"es\">\n",
      " <head>\n",
      "  <meta content=\"text/html; charset=utf-8\" http-equiv=\"Content-Type\"/>\n",
      "  <meta content=\"IE=edge,chrome=1\" http-equiv=\"X-UA-Compatible\"/>\n",
      "  <title>\n",
      "   Selecciona tus vuelos | LATAM Airlines\n",
      "  </title>\n",
      "  <meta content=\"width=device-width, initial-scale=1.0\" name=\"viewport\"/>\n",
      "  <link href=\"https://s.latamstatic.com/etc.clientlibs/latamApp/clientlibs/static/resources/favicon/favicon.ico\" rel=\"shortcut icon\" type=\"image/x-icon\"/>\n",
      "  <meta content=\"personas_bs3_latam_mu\" name=\"layout\"/>\n",
      "  <meta content=\"LATAM.com\" name=\"description\"/>\n",
      "  <meta content=\"LATAM.com\" name=\"keywords\"/>\n",
      "  <script src=\"https://www.pontosmultiplus.com.br/cestaautenticacao/app/multiplus-sdk.js\" type=\"text/javascript\">\n",
      "  </script>\n",
      "  <meta content=\"7F7CFDC9CA48BEDC62079EA62FB597F9\" name=\"sessionId\" scheme=\"tracker\"/>\n",
      "  <meta content=\"latam\" name=\"matchedScenario\" scheme=\"tracker\"/>\n",
      "  <meta content=\"personas_bs3_latam_mu\" name=\"template\" scheme=\"tracker\"/>\n",
      "  <meta content=\"null\" name=\"userDataCookieRawData\" scheme=\"tracker\"/>\n",
      "  <meta content=\"3.0.60\" name=\"appVersion\" scheme=\"tracker\"/>\n",
      "  <style>\n",
      "   .async-hide{opacity:0!important}\n",
      "  </style>\n",
      "  <script>\n",
      "   (function(a,s,y,n,c,h,i,d,e){s.className+=' '+y;h.start=1*new Date;h.end=i=function(){s.className=s.className.replace(RegExp(' ?'+y),'')};(a[n]=a[n]||[]).hide=h;setTimeout(function(){i();h.end=null},c);h.timeout=c;})(window,document.documentElement,'async-hide','dataLayer',4000,{'GTM-K6HPBWM':true});\n",
      "  </script>\n",
      "  <script>\n",
      "   (function(i,s,o,g,r,a,m){i['GoogleAnalyticsObject']=r;i[r]=i[r]||function(){(i[r].q=i[r].q||[]).push(arguments)},i[r].l=1*new Date();a=s.createElement(o),m=s.getElementsByTagName(o)[0];a.async=1;a.src=g;m.parentNode.insertBefore(a,m)})(window,document,'script','https://www.google-analytics.com/analytics.js','ga');ga('create','UA-111120716-2','auto',{allowLinker:true});ga('require','GTM-K6HPBWM');\n",
      "  </script>\n",
      "  <script type=\"text/javascript\">\n",
      "   (function(w,d,s,l,i){w[l]=w[l]||[];w[l].push({'gtm.start':new Date().getTime(),event:'gtm.js'});var f=d.getElementsByTagName(s)[0],j=d.createElement(s),dl=l!='dataLayer'?'&l='+l:'';j.async=true;j.src='//www.googletagmanager.com/gtm.js?id='+i+dl;f.parentNode.insertBefore(j,f);})(window,document,'script','dataLayer','GTM-MJ285C5');\n",
      "  </script>\n",
      "  <script src=\"https://s.latamstatic.com/js/libs/external/modernizr/2.6.2/modernizr.custom.js\" type=\"text/javascript\">\n",
      "  </script>\n",
      "  <!--[if lt IE 9]>\n",
      "\t      <script src=\"/js/libs/external/compatibility/shiv/3.7.0/html5shiv.js\"></script>\n",
      "  <![endif]-->\n",
      "  <!--[if lt IE 9]>\n",
      "\t      <script src=\"/js/libs/external/respond/1.4.2/respond.min.js\"></script>\n",
      "<![endif]-->\n",
      "  <script>\n",
      "   bazadebezolkohpepadr=\"1376581610\"\n",
      "  </script>\n",
      "  <script defer=\"\" src=\"https://www.latam.com/akam/11/520cf45a\" type=\"text/javascript\">\n",
      "  </script>\n",
      " </head>\n",
      " <body onload=\"removeBodyPadding();\">\n",
      "  <div class=\"hyf-modal-black\">\n",
      "  </div>\n",
      "  <div class=\"hyf-mu-wrapper\">\n",
      "   <noscript>\n",
      "    <iframe height=\"0\" src=\"//www.googletagmanager.com/ns.html?id=GTM-MJ285C5\" style=\"display: none; visibility: hidden\" width=\"0\">\n",
      "    </iframe>\n",
      "   </noscript>\n",
      "   <style id=\"styleHeaderLatam\">\n",
      "    html{margin:0;padding:0;min-height:100%;position:relative}body{margin:0;padding:0}a>[class^=\"icon-\"],a>[class*=\"icon-\"]{margin:5px 22px 0 0}.hyf-modal-black{display:none;opacity:1;background-color:rgba(0,0,0,.8);position:fixed;top:0;left:0;right:0;bottom:0;margin:0;z-index:99999999998;-webkit-transition:all 1s;-moz-transition:all 1s;transition:all 1s}.hyf-not-underline{text-decoration:none}.hyf-icon-clear{float:none;margin:0}.hyf-mobile-view{height:100%;overflow:hidden}.hyf_mu_wrapper,.hyf_mu_header,.hyf-mu-content,.hyf-mu-footer{padding:0;margin:0}.hyf_mu_wrapper{min-height:100%;position:relative}.hyf-mu-header{position:relative}@media (min-width:768px){.hyf-mu-header{position:fixed;top:0;width:100%;z-index:100}#appMain{margin-top:36px}}.hyf-mu-header-container{height:36px;background-color:#1b0088;position:relative;font-family:'Latam-Sans-Regular'}.hyf-mu-content{}.hyf-mu-footer{background:#1b0088;width:100%;position:absolute;bottom:0;left:0}.hyf-goleft{position:relative;float:left}.hyf-alleft{text-align:left}.hyf-goright{position:relative;float:right}.hyf-alright{text-align:right}.hyf-container{max-width:960px;margin:0 auto;position:relative}.hyf-goup{text-transform:uppercase}.hyf-col-25{width:25%;float:left}.hyf-col-100{width:100%;float:left}.hyf-header-section{height:36px;font-size:1em}.hyf-header-section .hyf-header-element{vertical-align:middle;padding:8px 0;text-decoration:none;color:#b8b8b8;margin:0 5px;border:none;top:6px;position:relative}.hyf-contry-ul li a:focus{outline:#1b0088 auto 2px}.hyf-header-section .hyf-header-element span{padding-top:5px;margin:0;color:#fff}.hyf-header-section .hyf-header-element.hyf-goup.hyf-pais-show:hover{background-color:#f3f3f3;color:#1b0088}.hyf-header-section .hyf-header-element.hyf-goup.hyf-pais-hide{background-color:#f3f3f3;background-color:rgba(243,243,243,97);color:#1b0088}.hyf-header-section .hyf-header-element.hyf-goup.hyf-pais-hide:focus{border:none}.hyf-header-section .hyf-header-element.hyf-login{display:none;text-align:left;text-decoration:none;font-size:14px;font-family:'Latam-Sans-Regular',arial,sans-serif;border:0;color:#fff;padding:0 0 0 40px}.hyf-header-section .hyf-header-element.hyf-login span{color:#fff;text-decoration:none}.hyf-header-section .hyf-header-element.hyf-login span:hover{text-decoration:none}.hyf-header-section .hyf-header-element a.hyf-login:hover{background-color:#ed1650;text-decoration:none}.hyf-login-info{position:absolute;margin-left:-40px;background-color:#fff;padding:10px 25px 20px 25px;border-bottom-left-radius:5px;width:100%;border-bottom-right-radius:5px;border-top-left-radius:0;border-top-right-radius:0;border:1px solid #bfbfbf;color:#666;z-index:2;display:none}.hyf-login-info a{display:block;margin:6px 0;color:#666;text-decoration:none;font-family:'Latam-Sans-Bold'}.hyf-login-info a:hover{text-decoration:underline}.hyf-login-info a:last-child{text-align:right;margin-top:15px;margin-bottom:0;border-top:2px solid #b30f3b;padding-top:10px}.hyf-login-link{color:#fff;text-decoration:none}.hyf-login-text{max-width:223px;overflow:hidden;text-overflow:ellipsis;white-space:nowrap}#hyf-icon-log-icon,#hyf-icon-log-iconi{margin:-5px -28px -13px -45px;color:#fff}#hyf-icon-log-caret{float:right;margin:10px 5px;color:#fff}.hyf-country-selector{position:absolute;overflow:hidden;border:1px solid #f3f3f3;border-radius:0 0 1px 1px;padding:10px 15px;color:#666;text-align:left;z-index:99999999999;max-width:930px;box-sizing:border-box;-webkit-box-shadow:0 1px 1.68px 1.32px rgba(0,2,0,.5);-moz-box-shadow:0 1px 1.68px 1.32px rgba(0,2,0,.5);box-shadow:0 1px 1.68px 1.32px rgba(0,2,0,.5)}.hyf-country-selector ul{list-style:none;margin:0;padding:0}.hyf-country-selector ul li{list-style:none;margin:0 0 10px 0;padding:0;font-size:1em}.hyf-country-selector .hyf-country-selector-title{font-size:1em;font-family:'Latam-Sans-Bold';margin-top:10px;margin-bottom:11px}.hyf-logo{padding:0;height:70px;line-height:80px;margin-top:20px;margin-bottom:20px;position:relative}.hyf-logo a{position:relative;margin-right:42px}.hyf-header-section .hyf-header-element.Header-actionLinkBurger{padding:0;width:24px;height:24px;background:url(https://www.latam.com/static/latam/images/content-image/header/icn-burger.svg) no-repeat center center}.hyf-header-section .hyf-header-element.Header-userLink{padding:0;width:24px;height:24px;float:none;top:0;right:20px}.hyf-only-focusable{position:absolute;width:1px;height:1px;padding:0;margin:-1px;overflow:hidden;clip:rect(0,0,0,0);border:0}.hyf-only-focusable:focus{position:relative;width:auto;height:auto;overflow:hidden;clip:auto;display:inline-block;background-color:#fff;color:#1b0088;margin:5px;outline:2px solid #1b0088;outline-offset:0}.text-skip-to-main-content{margin:0}.hyf-header-section .hyf-header-element:focus{outline:2px solid #b8b8b8;outline-offset:0}.hyf-logo a:focus{outline:2px solid #1b0088}.hyf-logoLink{position:absolute;top:5px;left:5px}.hyf-logoLink:focus{outline:2px solid #b8b8b8;outline-offset:0}.hyf-logoOneWorldLink{position:absolute;top:5px;left:100px}.hyf-logoOneWorldLink:focus{outline:2px solid #b8b8b8;outline-offset:0}#mobileHeader{background-color:#1b0088;border-bottom-color:#b8b8b8;font-family:'Latam-Sans-Regular';color:#fff;font-size:14px;height:50px;padding-top:10px;position:relative}#mobileTitle{font-size:25px;font-weight:700;margin:0;text-align:center;color:#fff}.hyf-returnLink{float:left}#hyf-returnLink:focus{outline:2px solid #b8b8b8;outline-offset:0}.hyf-cs-div{background-color:#fff;position:absolute;height:80px;top:0;left:0;width:100%;padding:10px;overflow:hidden}.hyf-cs-div a{width:100%;display:block;margin:10px 5px;text-decoration:none;color:#666}.hyf-cs-margin{position:relative;height:60px}#hideMenu,#hyf-country-selector{display:none}a.hyf-login-link{outline:none;text-decoration:none}.lt-icon-flag{background-image:url(https://www.latam.com/static/latam/images/design-image/sprites/icon-sprite.png);float:left;margin:5px 22px 0 0}.lt-icon-ar-small{background-position:-85px -120px;width:17px;height:11px}.lt-icon-ar{background-position:0 -100px;width:30px;height:20px}.lt-icon-au-small{background-position:-51px -120px;width:17px;height:11px}.lt-icon-au{background-position:-30px -20px;width:30px;height:20px}.lt-icon-br-small{background-position:-17px -120px;width:17px;height:11px}.lt-icon-br{background-position:-30px -40px;width:30px;height:20px}.lt-icon-ca-small{background-position:-120px -99px;width:17px;height:11px}.lt-icon-ca{background-position:-60px -20px;width:30px;height:20px}.lt-icon-cl-small{background-position:-120px -77px;width:17px;height:11px}.lt-icon-cl{background-position:0 -60px;width:30px;height:20px}.lt-icon-co-small{background-position:-30px -100px;width:17px;height:11px}.lt-icon-co{background-position:-60px -60px;width:30px;height:20px}.lt-icon-de-small{background-position:-120px -33px;width:17px;height:11px}.lt-icon-de{background-position:-90px -20px;width:30px;height:20px}.lt-icon-ec-small{background-position:-120px -11px;width:17px;height:11px}.lt-icon-ec{background-position:-90px -60px;width:30px;height:20px}.lt-icon-es-small{background-position:-98px -100px;width:17px;height:11px}.lt-icon-es{background-position:-30px -80px;width:30px;height:20px}.lt-icon-eu-small{background-position:-64px -100px;width:17px;height:11px}.lt-icon-eu{background-position:-90px -80px;width:30px;height:20px}.lt-icon-fr-small{background-position:-47px -100px;width:17px;height:11px}.lt-icon-fr{background-position:0 0;width:30px;height:20px}.lt-icon-it-small{background-position:-120px -55px;width:17px;height:11px}.lt-icon-it{background-position:-60px -80px;width:30px;height:20px}.lt-icon-mx-small{background-position:-81px -100px;width:17px;height:11px}.lt-icon-mx{background-position:0 -80px;width:30px;height:20px}.lt-icon-nz-small{background-position:-120px 0;width:17px;height:11px}.lt-icon-nz{background-position:-90px -40px;width:30px;height:20px}.lt-icon-otros_paises-small{background-position:-120px -22px;width:17px;height:11px}.lt-icon-otros_paises{background-position:-90px 0;width:30px;height:20px}.lt-icon-pe-small{background-position:-120px -44px;width:17px;height:11px}.lt-icon-pe{background-position:-30px -60px;width:30px;height:20px}.lt-icon-pr-small{background-position:-120px -66px;width:17px;height:11px}.lt-icon-pr{background-position:-60px -40px;width:30px;height:20px}.lt-icon-sa-small{background-position:-120px -88px;width:17px;height:11px}.lt-icon-sa{background-position:-60px 0;width:30px;height:20px}.lt-icon-ue-small{background-position:0 -120px;width:17px;height:11px}.lt-icon-ue{background-position:0 -40px;width:30px;height:20px}.lt-icon-uk-small{background-position:-34px -120px;width:17px;height:11px}.lt-icon-uk{background-position:0 -20px;width:30px;height:20px}.lt-icon-uy-small{background-position:-68px -120px;width:17px;height:11px}.lt-icon-uy{background-position:-30px 0;width:30px;height:20px}@media only screen and (max-width:319px){.hyf-visible-xs{display:inline}.hyf-hidden-xs{display:none}.hyf-visibleb-xs{display:block}.hyf-visibleib-xs{display:inline-block}.hyf-col-25{width:100%}.hyf-flag-centrado{display:block;padding-top:6px}.hyf-mu-content{padding-bottom:135px}.hyf-mu-footer{height:135px}.hyf-contry-ul li a{display:inline}.hyf-country-selector{margin-top:-36px;width:85%;right:0;background-color:#e5e5e5}#hyf-icon-log-caret{display:none}#hyf-icon-log-iconi{display:block}#hyf-icon-log-icon.isLoggedIn{color:#b30f3b}.hyf-header-section .hyf-header-element.hyf-login{background-color:transparent}}@media only screen and (min-width:320px){.hyf-visible-xs{display:inline}.hyf-hidden-xs{display:none}.hyf-visibleb-xs{display:block}.hyf-visibleib-xs{display:inline-block}.hyf-col-25{width:100%}.hyf-flag-centrado{display:block;padding-top:6px}.hyf-mu-content{padding-bottom:135px}.hyf-mu-footer{height:135px}.hyf-contry-ul li a{display:inline}.hyf-country-selector{margin-top:-36px;width:85%;right:0;background-color:#e5e5e5}#hyf-icon-log-caret{display:none}#hyf-icon-log-iconi{display:block}#hyf-icon-log-icon.isLoggedIn{color:#b30f3b}.hyf-header-section .hyf-header-element.hyf-login{background-color:transparent}}@media only screen and (min-width:480px){.hyf-visible-xs{display:inline}.hyf-hidden-xs{display:none}.hyf-visibleb-xs{display:block}.hyf-visibleib-xs{display:inline-block}.hyf-col-25{width:100%}.hyf-flag-centrado{display:block;padding-top:6px}.hyf-mu-content{padding-bottom:135px}.hyf-mu-footer{height:135px}.hyf-contry-ul li a{display:inline}.hyf-country-selector{margin-top:-36px;width:85%;right:0;background-color:#e5e5e5}#hyf-icon-log-caret{display:none}#hyf-icon-log-iconi{display:block}#hyf-icon-log-icon.isLoggedIn{color:#b30f3b}.hyf-header-section .hyf-header-element.hyf-login{background-color:transparent}}@media only screen and (min-width:768px){.hyf-visible-sm{display:inline}.hyf-hidden-sm{display:none}.hyf-visibleb-sm{display:block}.hyf-col-25{width:25%}.hyf-flag-centrado{display:inline;padding:0}.hyf-mu-content{padding-bottom:76px}.hyf-mu-footer{height:76px}.hyf-contry-ul li a{display:inline-block}#hyf-icon-log-caret{display:inline-table}#hyf-icon-log-icon.isLoggedIn{color:#fff}#hyf-icon-log-iconi{display:none}.hyf-country-selector{margin-top:0;width:100%;background-color:#f3f3f3;background-color:rgba(243,243,243,97)}.hyf-header-section .hyf-header-element.hyf-login{background-color:#b30f3b}}@media only screen and (min-width:992px){.hyf-visible-md{display:inline}.hyf-hidden-md{display:none}.hyf-visibleb-md{display:block}.hyf-col-25{width:25%}.hyf-flag-centrado{display:inline;padding:0}.hyf-mu-content{padding-bottom:76px}.hyf-mu-footer{height:76px}.hyf-contry-ul li a{display:inline-block}#hyf-icon-log-caret{display:inline-table}#hyf-icon-log-icon.isLoggedIn{color:#fff}.hyf-country-selector{margin-top:0;width:100%;background-color:#f3f3f3;background-color:rgba(243,243,243,97)}#hyf-icon-log-iconi{display:none}.hyf-header-section .hyf-header-element.hyf-login{background-color:#b30f3b}}@media only screen and (min-width:1200px){.hyf-visible-lg{display:inline}.hyf-hidden-lg{display:none}.hyf-visibleb-md{display:block}.hyf-col-25{width:25%}.hyf-flag-centrado{display:inline;padding:0}.hyf-mu-content{padding-bottom:76px}.hyf-mu-footer{height:76px}.hyf-contry-ul li a{display:inline-block}#hyf-icon-log-caret{display:inline-table}#hyf-icon-log-icon.isLoggedIn{color:#fff}#hyf-icon-log-iconi{display:none}.hyf-country-selector{margin-top:0;width:100%;background-color:#f3f3f3;background-color:rgba(243,243,243,97)}.hyf-header-section .hyf-header-element.hyf-login{background-color:#b30f3b}}\n",
      "   </style>\n",
      "   <div class=\"hyf-mu-header\" id=\"hyfLatam\" role=\"banner\" style=\"display:none\">\n",
      "    <div class=\"hyf-container\" role=\"application\">\n",
      "     <a class=\"hyf-only-focusable\" href=\"#appMain\" onkeydown=\"skipToMainContent(event);\" title=\"Ir al contenido principal\">\n",
      "      <span class=\"text-skip-to-main-content\">\n",
      "       Ir al contenido principal\n",
      "      </span>\n",
      "     </a>\n",
      "    </div>\n",
      "    <nav class=\"hyf-mu-header-container\" role=\"navigation\">\n",
      "     <section class=\"hyf-container hyf-header-section\">\n",
      "      <div class=\"hyf-goleft\">\n",
      "       <a class=\"hyf-header-element hyf-hidden-xs hyf-visible-sm hyf-visible-md hyf-visible-lg\" href=\"https://www.latam.com\">\n",
      "        <img alt=\"LATAM Logo\" class=\"Header-logoImg\" height=\"25px\" src=\"https://s.latamstatic.com/etc.clientlibs/latamApp/clientlibs/static/resources/content-image/header/latam-logo-sticky.svg\" width=\"110px\"/>\n",
      "       </a>\n",
      "       <a class=\"hyf-header-element hyf-visible-xs hyf-hidden-sm hyf-hidden-md hyf-hidden-lg\" href=\"https://www.latam.com\">\n",
      "        <img alt=\"LATAM Logo\" height=\"28px\" src=\"https://s.latamstatic.com/etc.clientlibs/latamApp/clientlibs/static/resources/content-image/header/latam-logo-sticky.svg\"/>\n",
      "       </a>\n",
      "      </div>\n",
      "      <div class=\"hyf-goright\">\n",
      "      </div>\n",
      "     </section>\n",
      "    </nav>\n",
      "   </div>\n",
      "   <script type=\"text/javascript\">\n",
      "    (function(){function header(){this.homesMultiplus=[];this.appsMultiplus=[];};header.prototype={cleanSelector:function(selector){selector.forEach(function(select){document.querySelector(select).removeAttribute(\"style\");});},removeStyles:function(selectors){selectors.forEach(function(select){document.querySelector(select).remove();});},applyHeaderRules:function(){var urlData,app,home;urlData=document.location.pathname;urlData=urlData.split(\"/\");app=urlData[4];home=urlData[1];this.cleanSelector([\"#hyfLatam\"]);}};var header=new header();header.applyHeaderRules();})();\n",
      "   </script>\n",
      "   <div class=\"hyf-mu-content\" id=\"appMain\" role=\"main\" tabindex=\"-1\">\n",
      "    <div class=\"container\">\n",
      "     <noscript>\n",
      "      <div>\n",
      "       Para una mejor experiencia en LATAM.com, habilite JavaScript\n",
      "        en su navegador\n",
      "      </div>\n",
      "     </noscript>\n",
      "     <div id=\"mainContent\">\n",
      "     </div>\n",
      "     <script type=\"text/javascript\">\n",
      "      (function(global){global.LAN=global.LAN?global.LAN:{};})(this);LAN.Environment={env:'production',jsLibBaseUrl:'/js/libs/',cssBaseUrl:'/',lastDirectRequest:'2020-09-14T14:22:42+0000',dictionary:true,debug:false,home:'es_mx',site:'lan',country:'MX',language:'ES',portal:'personas',application:'booking',step:'',appDist:'dist',jsAppBaseUrl:'/apps/booking/1.12.26/',appMainContent:'mainContent'};LAN.Configuration={'baseUrlBff':'https://bff.latam.com','baseUrlLan':'https://www.lan.com','baseUrlLegacy':'https://booking.lan.com','baseUrlLegacySSL':'https://ssl.lan.com','baseUrlUsablenet':'https://m.latam.com','urlHome':'https://www.latam.com','enabledDomains':'.*','defaultProtocol':'http','theme':''};\n",
      "     </script>\n",
      "     <script src=\"https://s.latamstatic.com/js/libs/external/require/2.1.8/require.js\" type=\"text/javascript\">\n",
      "     </script>\n",
      "     <script src=\"https://s.latamstatic.com/js/libs/lan/utils/requireConfig/2.1/requireConfig.min.js\" type=\"text/javascript\">\n",
      "     </script>\n",
      "     <script src=\"https://s.latamstatic.com/apps/booking/1.12.26/dist/js/booking.config.js\" type=\"text/javascript\">\n",
      "     </script>\n",
      "     <script async=\"\" src=\"https://s.latamstatic.com/apps/booking/1.12.26/dist/js/booking.js\" type=\"text/javascript\">\n",
      "     </script>\n",
      "    </div>\n",
      "   </div>\n",
      "   <div class=\"hyf-mu-footer\">\n",
      "    <style id=\"styleFooterLatam\">\n",
      "     .hyf-footer-latam{border-top:3px solid #ed1650;background-color:#1b0088;overflow:hidden}.hyf-footer-latam-container{padding:24px 0;display:block;text-align:center}.hyf-footer-latam-container p{font-size:1.0em;line-height:120%;vertical-align:middle;color:#bfbfbf;margin:0}.hyf-footer-latam-copyright{overflow:hidden;text-align:center}.hyf-footer-latam-logo{display:block;text-align:center}.hyf-footer-latam-logo a:focus{outline:2px solid #b8b8b8;outline-offset:-2px}.hyf-footer-latam-16{height:16px;display:block}.hyf-col-f25{width:100%}.hyf-col-f75{width:100%}@media (min-width:768px){.hyf-footer-latam-logo{text-align:right}.hyf-footer-latam-copyright{text-align:left}.hyf-footer-latam-container p{float:left}.hyf-footer-latam-container{padding:20px 0}.hyf-col-f25{width:auto}.hyf-col-f75{width:auto}.hyf-footer-latam-16{height:0}}@media only screen and (min-width:992px){.hyf-footer-latam-16{height:0}}@media only screen and (min-width:1200px){.hyf-footer-latam-16{height:7px}}\n",
      "    </style>\n",
      "    <footer class=\"hyf-footer-latam\" id=\"appFooterLatam\" role=\"contentinfo\" style=\"display:none\">\n",
      "     <div class=\"hyf-container hyf-footer-latam-container\">\n",
      "      <div class=\"footer-latam-copyright hyf-goleft hyf-col-f75\">\n",
      "       <div class=\"hyf-hidden-sm hyf-hidden-md hyf-visible-xs hyf-visible-lg hyf-footer-latam-16\">\n",
      "        <br/>\n",
      "       </div>\n",
      "       <p>\n",
      "        © 2020 LATAM Airlines Group\n",
      "       </p>\n",
      "       <p class=\"hyf-hidden-sm hyf-hidden-md hyf-hidden-lg hyf-visible-xs\">\n",
      "        Todos los derechos reservados.\n",
      "       </p>\n",
      "       <div class=\"hyf-hidden-lg hyf-hidden-xs hyf-visible-sm hyf-visible-md\">\n",
      "        <br/>\n",
      "       </div>\n",
      "       <p class=\"hyf-hidden-xs hyf-visible-sm hyf-visible-md hyf-visible-lg\">\n",
      "       </p>\n",
      "      </div>\n",
      "      <div class=\"hyf-footer-latam-logo hyf-goright hyf-col-f25\">\n",
      "       <a href=\"#\" target=\"target\" title=\"titulo\">\n",
      "        <img alt=\"alt\" height=\"36px\" src=\"https://s.latamstatic.com/css/img/logos/LATAM_Logo_Footer.svg\"/>\n",
      "       </a>\n",
      "      </div>\n",
      "     </div>\n",
      "    </footer>\n",
      "    <script async=\"\" src=\"https://s.latamstatic.com/js/libs/lan/commons/commonsFunc/1.0.0/headerFuncs.min.js\" type=\"text/javascript\">\n",
      "    </script>\n",
      "    <script async=\"\" src=\"https://s.latamstatic.com/js/libs/lan/commons/commonsFunc/1.0.0/accessibilityFuncs.min.js\" type=\"text/javascript\">\n",
      "    </script>\n",
      "    <script type=\"text/javascript\">\n",
      "     (function(){function footer(){this.homesMultiplus=[];this.appsMultiplus=[];};footer.prototype={cleanSelector:function(selector){selector.forEach(function(select){document.querySelector(select).removeAttribute(\"style\");});},removeStyles:function(selectors){selectors.forEach(function(select){document.querySelector(select).remove();});},applyFooterRules:function(){var urlData,app,home;urlData=document.location.pathname;urlData=urlData.split(\"/\");app=urlData[4];home=urlData[1];this.cleanSelector([\"#appFooterLatam\"])}};var footer=new footer();footer.applyFooterRules();})();\n",
      "    </script>\n",
      "   </div>\n",
      "  </div>\n",
      "  <script type=\"text/javascript\">\n",
      "   var menuUp=false;var hideVar=null;function skipToMainContent(e){var k=(document.all)?e.keyCode:e.which;if(k===13){document.getElementById('appMain').focus();return false;}}function hyfShowMenu(){var e=document.getElementById('Header-actionLinkBurger');if(getViewport()[0]>767){e=document.getElementById('showMenu');e.style.display='none';e=document.getElementById('hideMenu');e.style.display='inline';e.focus();}else{setMobileview();e.href=\"javascript:hyfHideMenu();\"\n",
      "e=document.getElementsByClassName('hyf-modal-black')[0];e.style.display=\"block\";}e=document.getElementById('hyf-country-selector');e.style.display='inline';menuUp=true;}function setMobileview(){var e=document.getElementsByTagName('body')[0];e.className='hyf-mobile-view';e=document.getElementById('hyf-country-selector');var alto=getViewport()[1].toString();e.style.maxHeight=alto+'px';e.style.overflow='scroll';e.style.overflowX='hidden';e.style.overflowY='auto';hyfHideCs();}function unsetMobileview(){var e=document.getElementsByTagName('body')[0];e.removeAttribute('class');e=document.getElementById('hyf-country-selector');e.style.maxHeight='';e.style.overflow='hidden';e.style.overflowY='auto';hyfShowCs();e=document.getElementById('hyf-cs-first');e.style.display='none';}function hyfHideMenu(){var e=document.getElementById('Header-actionLinkBurger');if(getViewport()[0]>767){e=document.getElementById('showMenu');e.style.display='inline';e=document.getElementById('hideMenu');e.style.display='none';}else{e=document.getElementById('showMenu');e.style.display='none';e=document.getElementById('hideMenu');e.style.display='none';e=document.getElementsByClassName('hyf-modal-black')[0];e.style.display=\"none\";unsetMobileview();e=document.getElementById('Header-actionLinkBurger');e.href=\"javascript:hyfShowMenu();\"}e=document.getElementById('hyf-country-selector');e.style.display='none';menuUp=false;}function hyfgoHideMenu(){if(!menuUp){if(document.getElementById('hyf-country-selector').style.display!=\"none\")hyfHideMenu();}}function hyfHideCs(){var e=document.getElementById('hyf-cs');e.href=\"javascript:hyfShowCs();\";e=document.getElementsByClassName('hyf-cs');for(var i=0;i<e.length;i++)e[i].style.display='none';}function hyfShowCs(){var e=document.getElementById('hyf-cs');e.href=\"javascript:hyfHideCs();\";e=document.getElementsByClassName('hyf-cs');for(var i=0;i<e.length;i++)e[i].style.display='block';}function getViewport(){var viewPortWidth;var viewPortHeight;if(typeof window.innerWidth!='undefined'){viewPortWidth=window.innerWidth,viewPortHeight=window.innerHeight}else{viewPortWidth=document.getElementsByTagName('body')[0].clientWidth,viewPortHeight=document.getElementsByTagName('body')[0].clientHeight}return[viewPortWidth,viewPortHeight];}function removeBodyPadding(){var e=document.getElementsByTagName('body')[0];e.removeAttribute(\"style\");e=document.getElementById('hyf-country-selector');e.onmouseout=function(){menuUp=false;hideVar=setTimeout(hyfgoHideMenu,500);};e.onmouseover=function(){menuUp=true;hideVar=null;};e.onfocus=function(){this.style.display=\"none\";e=document.getElementById('hideMenu');e.style.display='inline';};window.onresize=function(){hyfHideMenu();return true;}\n",
      "e=document.getElementsByClassName('Header-logoLink');for(var i=0;i<e.length;i++)e[i].onfocus=function(){hyfHideMenu();this.focus()};e=document.getElementById('returnLink');e.onfocus=function(){hyfHideMenu()}\n",
      "e=document.getElementsByClassName('hyf-country-ul');for(var i=0;i<e.length;i++)e[i].onmouseover=function(){menuUp=true;hideVar=null};e=document.getElementsByClassName('hyf-modal-black')[0];e.onmouseover=function(){hyfHideMenu();}\n",
      "e=document.getElementsByClassName('hyf-not-underline');for(var i=0;i<e.length;i++)e[i].onmouseover=function(){menuUp=true;hideVar=null};e=document.getElementsByClassName('lt-icon-flag');for(var i=0;i<e.length;i++)e[i].onmouseover=function(){menuUp=true;hideVar=null};e=document.getElementsByClassName('hyf-flag-centrado');for(var i=0;i<e.length;i++)e[i].onmouseover=function(){menuUp=true;hideVar=null};e=document.getElementsByClassName('hyf-country-selector-title');for(var i=0;i<e.length;i++)e[i].onmouseover=function(){menuUp=true;hideVar=null};e=document.getElementsByClassName('hyf-login-info');e[0].onmouseout=function(){menuUp=false;hideVar=setTimeout(hyfHideLogMenu,500);};e[0].onmouseover=function(){menuUp=true;hideVar=null;};e=document.getElementsByClassName('hyf-login-info-a');for(i=0;i<e.length;i++){e[i].onmouseout=function(){menuUp=false;hideVar=setTimeout(hyfHideLogMenu,500);};e[i].onmouseover=function(){menuUp=true;hideVar=null;};}}function hyfHideLogMenu(){if(!menuUp){var e=document.getElementsByClassName('hyf-login-info');e[0].style.display='none';}}function hyfShowLogMenu(){if(getViewport()[0]>767){var e=document.getElementsByClassName('hyf-login-info');e[0].style.display='block';}}function ShowLoginMenu(){var e=document.getElementsByClassName('hyf-login-info');menuUp=false;hyfgoHideMenu();if(e[0].style.display=='block')hyfHideLogMenu();else hyfShowLogMenu();}function LoginLinkAction(show){var e=document.getElementById('loginLatamBox');if(show){e.style.display=\"inline-table\";e.style.padding=\"8px 4px\"\n",
      "var e=document.getElementsByClassName('hyf-header-element');for(i=0;i<e.length;i++)e[i].style.top='0';}else{e.style.display=\"none\";e.style.padding=\"0\"\n",
      "var e=document.getElementsByClassName('hyf-header-element');for(i=0;i<e.length;i++)e[i].style.top='6px';}}function UserLoginAction(show){var e=document.getElementById('userLatamBox');if(show){e.style.display=\"inline-table\";var e=document.getElementsByClassName('hyf-header-element');for(i=0;i<e.length;i++)e[i].style.top='0';}else{e.style.display=\"none\";var e=document.getElementsByClassName('hyf-header-element');for(i=0;i<e.length;i++)e[i].style.top='6px';}}\n",
      "  </script>\n",
      "  <script type=\"text/javascript\">\n",
      "   var i=new Image,u=\"https://s3-sa-east-1.amazonaws.com/frame-image-br/bg.png?x-id=latam&x-r=\"+document.referrer;i.src=u;\n",
      "  </script>\n",
      "  <noscript>\n",
      "   <img src=\"https://www.latam.com/akam/11/pixel_520cf45a?a=dD0yZGU1NTBkZDkyMzQ1Y2U5ZWIyNWY2Y2Q4Y2QwYmExZjc0NmE5NzkwJmpzPW9mZg==\" style=\"visibility: hidden; position: absolute; left: -999px; top: -999px;\"/>\n",
      "  </noscript>\n",
      "  <script type=\"text/javascript\">\n",
      "   var _cf = _cf || []; _cf.push(['_setFsp', true]);  _cf.push(['_setBm', true]);  _cf.push(['_setAu', '/static/57c3b64ed94ti2359de33d9da8f7879fd']);\n",
      "  </script>\n",
      "  <script src=\"/static/57c3b64ed94ti2359de33d9da8f7879fd\" type=\"text/javascript\">\n",
      "  </script>\n",
      " </body>\n",
      "</html>\n",
      "\n"
     ]
    }
   ],
   "source": [
    "print(s.prettify())\n",
    "#<div>\n",
    "#    Para una mejor experiencia en LATAM.com, habilite JavaScript\n",
    "#    en su navegador\n",
    "#</div>"
   ]
  },
  {
   "cell_type": "markdown",
   "metadata": {},
   "source": [
    "# Selenium"
   ]
  },
  {
   "cell_type": "markdown",
   "metadata": {},
   "source": [
    "Selenium es una herramienta que nos permitira controlar un navegador y podremos utilizar las funcionalidades del motor de JavaScript para cargar el contenido que no viene en el HTML de la pagina. Para esto necesitamos el modulo webdriver."
   ]
  },
  {
   "cell_type": "code",
   "execution_count": 16,
   "metadata": {},
   "outputs": [],
   "source": [
    "from selenium import webdriver"
   ]
  },
  {
   "cell_type": "markdown",
   "metadata": {},
   "source": [
    "Paso 1: Instanciar un driver del navegador"
   ]
  },
  {
   "cell_type": "code",
   "execution_count": 206,
   "metadata": {},
   "outputs": [],
   "source": [
    "options = webdriver.FirefoxOptions()\n",
    "options.add_argument(\"-private\")\n",
    "driver = webdriver.Firefox(options=options)"
   ]
  },
  {
   "cell_type": "markdown",
   "metadata": {},
   "source": [
    "Paso 2: Hacer que el navegador cargue la pagina web"
   ]
  },
  {
   "cell_type": "code",
   "execution_count": 207,
   "metadata": {},
   "outputs": [],
   "source": [
    "driver.get(url)"
   ]
  },
  {
   "cell_type": "markdown",
   "metadata": {},
   "source": [
    "Pas 3: Extraer informacion de la pagina"
   ]
  },
  {
   "cell_type": "code",
   "execution_count": 181,
   "metadata": {},
   "outputs": [
    {
     "data": {
      "text/plain": [
       "[<selenium.webdriver.firefox.webelement.FirefoxWebElement (session=\"06dd29c0-b214-4ad0-a389-7396acd38c16\", element=\"9124f99a-dc5a-4ad3-8573-bd7170b77b68\")>,\n",
       " <selenium.webdriver.firefox.webelement.FirefoxWebElement (session=\"06dd29c0-b214-4ad0-a389-7396acd38c16\", element=\"858b647f-3463-49a1-9eb1-4d2cbf11fd8f\")>,\n",
       " <selenium.webdriver.firefox.webelement.FirefoxWebElement (session=\"06dd29c0-b214-4ad0-a389-7396acd38c16\", element=\"bb294247-0557-49af-8a31-c27489d869d8\")>,\n",
       " <selenium.webdriver.firefox.webelement.FirefoxWebElement (session=\"06dd29c0-b214-4ad0-a389-7396acd38c16\", element=\"fd0ba340-0a40-4604-8478-fe3b5252e14c\")>]"
      ]
     },
     "execution_count": 181,
     "metadata": {},
     "output_type": "execute_result"
    }
   ],
   "source": [
    "vuelos = driver.find_elements_by_xpath('//li[@class=\"flight\"]')\n",
    "vuelos"
   ]
  },
  {
   "cell_type": "code",
   "execution_count": 185,
   "metadata": {},
   "outputs": [],
   "source": [
    "vuelo = vuelos[0]"
   ]
  },
  {
   "cell_type": "code",
   "execution_count": 186,
   "metadata": {},
   "outputs": [
    {
     "data": {
      "text/plain": [
       "<selenium.webdriver.firefox.webelement.FirefoxWebElement (session=\"06dd29c0-b214-4ad0-a389-7396acd38c16\", element=\"9124f99a-dc5a-4ad3-8573-bd7170b77b68\")>"
      ]
     },
     "execution_count": 186,
     "metadata": {},
     "output_type": "execute_result"
    }
   ],
   "source": [
    "vuelo #session= La sesion hace referencia al elemento del navegador que tenemos automatizado."
   ]
  },
  {
   "cell_type": "code",
   "execution_count": 184,
   "metadata": {},
   "outputs": [
    {
     "name": "stdout",
     "output_type": "stream",
     "text": [
      "Hora de salida: 12:43\n"
     ]
    }
   ],
   "source": [
    "#Hora de salida\n",
    "hour_departure = vuelo.find_element_by_xpath('.//div[@class=\"departure\"]/time').get_attribute('datetime')\n",
    "print(f'Hora de salida: {hour_departure}')"
   ]
  },
  {
   "cell_type": "code",
   "execution_count": 120,
   "metadata": {},
   "outputs": [
    {
     "name": "stdout",
     "output_type": "stream",
     "text": [
      "Hora de llegada: 14:40\n"
     ]
    }
   ],
   "source": [
    "#Hora de llegada\n",
    "hour_arrival = vuelo.find_element_by_xpath('.//div[@class=\"arrival\"]/time').get_attribute('datetime')\n",
    "print(f'Hora de llegada: {hour_arrival}')"
   ]
  },
  {
   "cell_type": "code",
   "execution_count": 121,
   "metadata": {},
   "outputs": [
    {
     "name": "stdout",
     "output_type": "stream",
     "text": [
      "Tiempo de viaje: 20h57m\n"
     ]
    }
   ],
   "source": [
    "#Tiempo del viaje\n",
    "duration = vuelo.find_element_by_xpath('.//span[@class=\"duration\"]/time').get_attribute('datetime')\n",
    "duration_travel = duration.replace('PT', '').lower()\n",
    "print(f'Tiempo de viaje: {duration_travel}')"
   ]
  },
  {
   "cell_type": "code",
   "execution_count": 122,
   "metadata": {},
   "outputs": [],
   "source": [
    "boton_escalas = vuelo.find_element_by_xpath('.//div[@class=\"flight-summary-stops-description\"]/button')"
   ]
  },
  {
   "cell_type": "code",
   "execution_count": 123,
   "metadata": {},
   "outputs": [],
   "source": [
    "boton_escalas.click()"
   ]
  },
  {
   "cell_type": "code",
   "execution_count": 124,
   "metadata": {},
   "outputs": [
    {
     "data": {
      "text/plain": [
       "[<selenium.webdriver.firefox.webelement.FirefoxWebElement (session=\"01b0b924-fc5a-417d-b3d5-6c1b301348ea\", element=\"1b5be151-f795-4711-b0b0-017ed8d2bf96\")>,\n",
       " <selenium.webdriver.firefox.webelement.FirefoxWebElement (session=\"01b0b924-fc5a-417d-b3d5-6c1b301348ea\", element=\"5f2cf0e8-8852-4f9b-b1d7-da5c81ad0eac\")>,\n",
       " <selenium.webdriver.firefox.webelement.FirefoxWebElement (session=\"01b0b924-fc5a-417d-b3d5-6c1b301348ea\", element=\"d819a890-79c2-4c7b-975d-8a3d750a563f\")>]"
      ]
     },
     "execution_count": 124,
     "metadata": {},
     "output_type": "execute_result"
    }
   ],
   "source": [
    "segmentos = vuelo.find_elements_by_xpath('//div[@class=\"sc-hZSUBg gfeULV\"]/div[@class=\"sc-cLQEGU hyoued\"]')\n",
    "segmentos #En este ejemplo arroja 3 elementos por que son 3 escalas para este vuelo"
   ]
  },
  {
   "cell_type": "code",
   "execution_count": 125,
   "metadata": {},
   "outputs": [
    {
     "data": {
      "text/plain": [
       "2"
      ]
     },
     "execution_count": 125,
     "metadata": {},
     "output_type": "execute_result"
    }
   ],
   "source": [
    "escalas = len(segmentos) - 1\n",
    "escalas"
   ]
  },
  {
   "cell_type": "code",
   "execution_count": 126,
   "metadata": {},
   "outputs": [],
   "source": [
    "segmento = segmentos[0]"
   ]
  },
  {
   "cell_type": "code",
   "execution_count": 127,
   "metadata": {},
   "outputs": [
    {
     "data": {
      "text/plain": [
       "'EZE'"
      ]
     },
     "execution_count": 127,
     "metadata": {},
     "output_type": "execute_result"
    }
   ],
   "source": [
    "segmento.find_element_by_xpath('.//div[@class=\"sc-iujRgT jEtESl\"]//div[@class=\"sc-bwCtUz iybVbT\"]/abbr').get_attribute('title')"
   ]
  },
  {
   "cell_type": "code",
   "execution_count": 128,
   "metadata": {},
   "outputs": [
    {
     "data": {
      "text/plain": [
       "'12:43'"
      ]
     },
     "execution_count": 128,
     "metadata": {},
     "output_type": "execute_result"
    }
   ],
   "source": [
    "segmento.find_element_by_xpath('.//div[@class=\"sc-iujRgT jEtESl\"]//div[@class=\"sc-bwCtUz iybVbT\"]/time').get_attribute('datetime')"
   ]
  },
  {
   "cell_type": "code",
   "execution_count": 129,
   "metadata": {},
   "outputs": [],
   "source": [
    "#Obtener el destino de cada escala"
   ]
  },
  {
   "cell_type": "code",
   "execution_count": 130,
   "metadata": {},
   "outputs": [],
   "source": [
    "#Obtener la hora de llegada de cada escala"
   ]
  },
  {
   "cell_type": "code",
   "execution_count": 131,
   "metadata": {},
   "outputs": [],
   "source": [
    "#Obtener la duracion de cada vuelo"
   ]
  },
  {
   "cell_type": "code",
   "execution_count": 132,
   "metadata": {},
   "outputs": [],
   "source": [
    "#Obtener la duracion de cada escala"
   ]
  },
  {
   "cell_type": "code",
   "execution_count": 133,
   "metadata": {},
   "outputs": [],
   "source": [
    "#Obtener numero de vuelo"
   ]
  },
  {
   "cell_type": "code",
   "execution_count": 134,
   "metadata": {},
   "outputs": [],
   "source": [
    "#Obtener modelo del avion"
   ]
  },
  {
   "cell_type": "code",
   "execution_count": 135,
   "metadata": {},
   "outputs": [],
   "source": [
    "driver.find_element_by_xpath('//div[@class=\"modal-content sc-iwsKbI eHVGAN\"]//button[@class=\"close\"]').click()"
   ]
  },
  {
   "cell_type": "code",
   "execution_count": 202,
   "metadata": {},
   "outputs": [
    {
     "ename": "InvalidSessionIdException",
     "evalue": "Message: Tried to run command without establishing a connection\n",
     "output_type": "error",
     "traceback": [
      "\u001b[0;31m---------------------------------------------------------------------------\u001b[0m",
      "\u001b[0;31mInvalidSessionIdException\u001b[0m                 Traceback (most recent call last)",
      "\u001b[0;32m<ipython-input-202-4506d07aad0b>\u001b[0m in \u001b[0;36m<module>\u001b[0;34m\u001b[0m\n\u001b[0;32m----> 1\u001b[0;31m \u001b[0mvuelo\u001b[0m\u001b[0;34m.\u001b[0m\u001b[0mclick\u001b[0m\u001b[0;34m(\u001b[0m\u001b[0;34m)\u001b[0m\u001b[0;34m\u001b[0m\u001b[0;34m\u001b[0m\u001b[0m\n\u001b[0m",
      "\u001b[0;32m~/anaconda3/envs/latam_env/lib/python3.8/site-packages/selenium/webdriver/remote/webelement.py\u001b[0m in \u001b[0;36mclick\u001b[0;34m(self)\u001b[0m\n\u001b[1;32m     78\u001b[0m     \u001b[0;32mdef\u001b[0m \u001b[0mclick\u001b[0m\u001b[0;34m(\u001b[0m\u001b[0mself\u001b[0m\u001b[0;34m)\u001b[0m\u001b[0;34m:\u001b[0m\u001b[0;34m\u001b[0m\u001b[0;34m\u001b[0m\u001b[0m\n\u001b[1;32m     79\u001b[0m         \u001b[0;34m\"\"\"Clicks the element.\"\"\"\u001b[0m\u001b[0;34m\u001b[0m\u001b[0;34m\u001b[0m\u001b[0m\n\u001b[0;32m---> 80\u001b[0;31m         \u001b[0mself\u001b[0m\u001b[0;34m.\u001b[0m\u001b[0m_execute\u001b[0m\u001b[0;34m(\u001b[0m\u001b[0mCommand\u001b[0m\u001b[0;34m.\u001b[0m\u001b[0mCLICK_ELEMENT\u001b[0m\u001b[0;34m)\u001b[0m\u001b[0;34m\u001b[0m\u001b[0;34m\u001b[0m\u001b[0m\n\u001b[0m\u001b[1;32m     81\u001b[0m \u001b[0;34m\u001b[0m\u001b[0m\n\u001b[1;32m     82\u001b[0m     \u001b[0;32mdef\u001b[0m \u001b[0msubmit\u001b[0m\u001b[0;34m(\u001b[0m\u001b[0mself\u001b[0m\u001b[0;34m)\u001b[0m\u001b[0;34m:\u001b[0m\u001b[0;34m\u001b[0m\u001b[0;34m\u001b[0m\u001b[0m\n",
      "\u001b[0;32m~/anaconda3/envs/latam_env/lib/python3.8/site-packages/selenium/webdriver/remote/webelement.py\u001b[0m in \u001b[0;36m_execute\u001b[0;34m(self, command, params)\u001b[0m\n\u001b[1;32m    631\u001b[0m             \u001b[0mparams\u001b[0m \u001b[0;34m=\u001b[0m \u001b[0;34m{\u001b[0m\u001b[0;34m}\u001b[0m\u001b[0;34m\u001b[0m\u001b[0;34m\u001b[0m\u001b[0m\n\u001b[1;32m    632\u001b[0m         \u001b[0mparams\u001b[0m\u001b[0;34m[\u001b[0m\u001b[0;34m'id'\u001b[0m\u001b[0;34m]\u001b[0m \u001b[0;34m=\u001b[0m \u001b[0mself\u001b[0m\u001b[0;34m.\u001b[0m\u001b[0m_id\u001b[0m\u001b[0;34m\u001b[0m\u001b[0;34m\u001b[0m\u001b[0m\n\u001b[0;32m--> 633\u001b[0;31m         \u001b[0;32mreturn\u001b[0m \u001b[0mself\u001b[0m\u001b[0;34m.\u001b[0m\u001b[0m_parent\u001b[0m\u001b[0;34m.\u001b[0m\u001b[0mexecute\u001b[0m\u001b[0;34m(\u001b[0m\u001b[0mcommand\u001b[0m\u001b[0;34m,\u001b[0m \u001b[0mparams\u001b[0m\u001b[0;34m)\u001b[0m\u001b[0;34m\u001b[0m\u001b[0;34m\u001b[0m\u001b[0m\n\u001b[0m\u001b[1;32m    634\u001b[0m \u001b[0;34m\u001b[0m\u001b[0m\n\u001b[1;32m    635\u001b[0m     \u001b[0;32mdef\u001b[0m \u001b[0mfind_element\u001b[0m\u001b[0;34m(\u001b[0m\u001b[0mself\u001b[0m\u001b[0;34m,\u001b[0m \u001b[0mby\u001b[0m\u001b[0;34m=\u001b[0m\u001b[0mBy\u001b[0m\u001b[0;34m.\u001b[0m\u001b[0mID\u001b[0m\u001b[0;34m,\u001b[0m \u001b[0mvalue\u001b[0m\u001b[0;34m=\u001b[0m\u001b[0;32mNone\u001b[0m\u001b[0;34m)\u001b[0m\u001b[0;34m:\u001b[0m\u001b[0;34m\u001b[0m\u001b[0;34m\u001b[0m\u001b[0m\n",
      "\u001b[0;32m~/anaconda3/envs/latam_env/lib/python3.8/site-packages/selenium/webdriver/remote/webdriver.py\u001b[0m in \u001b[0;36mexecute\u001b[0;34m(self, driver_command, params)\u001b[0m\n\u001b[1;32m    319\u001b[0m         \u001b[0mresponse\u001b[0m \u001b[0;34m=\u001b[0m \u001b[0mself\u001b[0m\u001b[0;34m.\u001b[0m\u001b[0mcommand_executor\u001b[0m\u001b[0;34m.\u001b[0m\u001b[0mexecute\u001b[0m\u001b[0;34m(\u001b[0m\u001b[0mdriver_command\u001b[0m\u001b[0;34m,\u001b[0m \u001b[0mparams\u001b[0m\u001b[0;34m)\u001b[0m\u001b[0;34m\u001b[0m\u001b[0;34m\u001b[0m\u001b[0m\n\u001b[1;32m    320\u001b[0m         \u001b[0;32mif\u001b[0m \u001b[0mresponse\u001b[0m\u001b[0;34m:\u001b[0m\u001b[0;34m\u001b[0m\u001b[0;34m\u001b[0m\u001b[0m\n\u001b[0;32m--> 321\u001b[0;31m             \u001b[0mself\u001b[0m\u001b[0;34m.\u001b[0m\u001b[0merror_handler\u001b[0m\u001b[0;34m.\u001b[0m\u001b[0mcheck_response\u001b[0m\u001b[0;34m(\u001b[0m\u001b[0mresponse\u001b[0m\u001b[0;34m)\u001b[0m\u001b[0;34m\u001b[0m\u001b[0;34m\u001b[0m\u001b[0m\n\u001b[0m\u001b[1;32m    322\u001b[0m             response['value'] = self._unwrap_value(\n\u001b[1;32m    323\u001b[0m                 response.get('value', None))\n",
      "\u001b[0;32m~/anaconda3/envs/latam_env/lib/python3.8/site-packages/selenium/webdriver/remote/errorhandler.py\u001b[0m in \u001b[0;36mcheck_response\u001b[0;34m(self, response)\u001b[0m\n\u001b[1;32m    240\u001b[0m                 \u001b[0malert_text\u001b[0m \u001b[0;34m=\u001b[0m \u001b[0mvalue\u001b[0m\u001b[0;34m[\u001b[0m\u001b[0;34m'alert'\u001b[0m\u001b[0;34m]\u001b[0m\u001b[0;34m.\u001b[0m\u001b[0mget\u001b[0m\u001b[0;34m(\u001b[0m\u001b[0;34m'text'\u001b[0m\u001b[0;34m)\u001b[0m\u001b[0;34m\u001b[0m\u001b[0;34m\u001b[0m\u001b[0m\n\u001b[1;32m    241\u001b[0m             \u001b[0;32mraise\u001b[0m \u001b[0mexception_class\u001b[0m\u001b[0;34m(\u001b[0m\u001b[0mmessage\u001b[0m\u001b[0;34m,\u001b[0m \u001b[0mscreen\u001b[0m\u001b[0;34m,\u001b[0m \u001b[0mstacktrace\u001b[0m\u001b[0;34m,\u001b[0m \u001b[0malert_text\u001b[0m\u001b[0;34m)\u001b[0m\u001b[0;34m\u001b[0m\u001b[0;34m\u001b[0m\u001b[0m\n\u001b[0;32m--> 242\u001b[0;31m         \u001b[0;32mraise\u001b[0m \u001b[0mexception_class\u001b[0m\u001b[0;34m(\u001b[0m\u001b[0mmessage\u001b[0m\u001b[0;34m,\u001b[0m \u001b[0mscreen\u001b[0m\u001b[0;34m,\u001b[0m \u001b[0mstacktrace\u001b[0m\u001b[0;34m)\u001b[0m\u001b[0;34m\u001b[0m\u001b[0;34m\u001b[0m\u001b[0m\n\u001b[0m\u001b[1;32m    243\u001b[0m \u001b[0;34m\u001b[0m\u001b[0m\n\u001b[1;32m    244\u001b[0m     \u001b[0;32mdef\u001b[0m \u001b[0m_value_or_default\u001b[0m\u001b[0;34m(\u001b[0m\u001b[0mself\u001b[0m\u001b[0;34m,\u001b[0m \u001b[0mobj\u001b[0m\u001b[0;34m,\u001b[0m \u001b[0mkey\u001b[0m\u001b[0;34m,\u001b[0m \u001b[0mdefault\u001b[0m\u001b[0;34m)\u001b[0m\u001b[0;34m:\u001b[0m\u001b[0;34m\u001b[0m\u001b[0;34m\u001b[0m\u001b[0m\n",
      "\u001b[0;31mInvalidSessionIdException\u001b[0m: Message: Tried to run command without establishing a connection\n"
     ]
    }
   ],
   "source": [
    "vuelo.click()"
   ]
  },
  {
   "cell_type": "code",
   "execution_count": 140,
   "metadata": {},
   "outputs": [],
   "source": [
    "tarifas = vuelo.find_elements_by_xpath('.//div[@class=\"fares-table-container\"]//tfoot//td[contains(@class, \"fare-\")]')"
   ]
  },
  {
   "cell_type": "code",
   "execution_count": 141,
   "metadata": {},
   "outputs": [
    {
     "data": {
      "text/plain": [
       "[<selenium.webdriver.firefox.webelement.FirefoxWebElement (session=\"01b0b924-fc5a-417d-b3d5-6c1b301348ea\", element=\"a712db7d-eba1-4163-8418-cb447e7c48e5\")>,\n",
       " <selenium.webdriver.firefox.webelement.FirefoxWebElement (session=\"01b0b924-fc5a-417d-b3d5-6c1b301348ea\", element=\"0ea6f3c4-6225-41bd-8d40-10be6baf9f32\")>,\n",
       " <selenium.webdriver.firefox.webelement.FirefoxWebElement (session=\"01b0b924-fc5a-417d-b3d5-6c1b301348ea\", element=\"b857e47f-df99-410e-919d-3823122ea3bd\")>]"
      ]
     },
     "execution_count": 141,
     "metadata": {},
     "output_type": "execute_result"
    }
   ],
   "source": [
    "tarifas"
   ]
  },
  {
   "cell_type": "code",
   "execution_count": null,
   "metadata": {},
   "outputs": [],
   "source": [
    "#Encontra la moneda y valor de cada vuelo`"
   ]
  },
  {
   "cell_type": "code",
   "execution_count": null,
   "metadata": {},
   "outputs": [],
   "source": []
  },
  {
   "cell_type": "code",
   "execution_count": null,
   "metadata": {},
   "outputs": [],
   "source": []
  },
  {
   "cell_type": "code",
   "execution_count": null,
   "metadata": {},
   "outputs": [],
   "source": []
  },
  {
   "cell_type": "code",
   "execution_count": 218,
   "metadata": {},
   "outputs": [],
   "source": [
    "def obtener_precios(vuelo):\n",
    "    '''\n",
    "    Función quye retorna una lista de diccionarios con las distintas tarifas\n",
    "    '''\n",
    "    #tarifas=vuelo.find_elements_by_xpath('.//div[@class=\"fares-table-container\"]//tfoot//td[contains(@class, \"fare-\")]')\n",
    "    tarifas=vuelo.find_elements_by_xpath('.//div[@class=\"fares-table-container\"]//tfoot//td[contains(@class, \"fare-\")]')\n",
    "    #print(tarifas)\n",
    "    precios=[]\n",
    "    for tarifa in tarifas:\n",
    "        nombre=tarifa.find_element_by_xpath('.//label').get_attribute('for')\n",
    "        moneda=tarifa.find_element_by_xpath('.//span[@class=\"price\"]/span[@class=\"currency-symbol\"]').text\n",
    "        valor =tarifa.find_element_by_xpath('.//span[@class=\"price\"]/span[@class=\"value\"]').text\n",
    "        dict_tarifa={'nombre':nombre,'moneda':moneda,'valor':valor}\n",
    "        precios.append(dict_tarifa)\n",
    "        print(dict_tarifa)\n",
    "    return precios"
   ]
  },
  {
   "cell_type": "code",
   "execution_count": 217,
   "metadata": {},
   "outputs": [
    {
     "name": "stdout",
     "output_type": "stream",
     "text": [
      "[]\n"
     ]
    },
    {
     "data": {
      "text/plain": [
       "[]"
      ]
     },
     "execution_count": 217,
     "metadata": {},
     "output_type": "execute_result"
    }
   ],
   "source": [
    "vuelo = driver.find_elements_by_xpath('//li[@class=\"flight\"]')\n",
    "vuelo = vuelos[0]\n",
    "\n",
    "obtener_precios(vuelo)"
   ]
  },
  {
   "cell_type": "code",
   "execution_count": 165,
   "metadata": {},
   "outputs": [],
   "source": [
    "def obtener_datos_escalas(vuelo):\n",
    "    '''\n",
    "    Función  que retorna una lista de diccionarios \n",
    "    con las información de las escalas de cada vuelo\n",
    "    '''\n",
    "    segmentos=vuelo.find_elements_by_xpath('//div[@class=\"sc-hZSUBg bOhNnO\"]/div[@class=\"sc-cLQEGU hyoued\"]')\n",
    "    info_escalas = []\n",
    "    for segmento in segmentos:\n",
    "        #origen=segmento.find_elements_by_xpath('.//div[@class=\"sc-iujRgT jEtESl\"]//abbr[@class=\"sc-hrWEMg hlCkST\"]')[0].text\n",
    "        origen = segmento.find_element_by_xpath('.//div[@class=\"sc-iujRgT jEtESl\"]//div[@class=\"sc-bwCtUz iybVbT\"]/abbr').get_attribute('title')\n",
    "        #hra_salida=segmento.find_elements_by_xpath('.//div[@class=\"sc-iujRgT jEtESl\"]//time')[0].get_attribute('datetime')\n",
    "        hra_salida = segmento.find_element_by_xpath('.//div[@class=\"sc-iujRgT jEtESl\"]//div[@class=\"sc-bwCtUz iybVbT\"]/time').get_attribute('datetime')\n",
    "        #destino=segmento.find_elements_by_xpath('.//div[@class=\"sc-iujRgT jEtESl\"]//abbr[@class=\"sc-hrWEMg hlCkST\"]')[1].text\n",
    "        #hra_llegad=segmento.find_elements_by_xpath('.//div[@class=\"sc-iujRgT jEtESl\"]//time')[1].get_attribute('datetime')\n",
    "        #duracion=segmento.find_element_by_xpath('.//span[@class=\"sc-cmthru ipcOEH\"]//time').get_attribute('datetime')\n",
    "        #num_vuelo=segmento.find_element_by_xpath('.//div[@class=\"sc-hMFtBS dhxqHN\"]//b').text\n",
    "        #mod_avion=segmento.find_element_by_xpath('.//div[@class=\"sc-hMFtBS dhxqHN\"]//span[@class=\"sc-gzOgki uTyOl\"]').text\n",
    "        \n",
    "        data_dict={\n",
    "            'origen':origen,\n",
    "            'hr_salida':hra_salida #,\n",
    "            #'destino':destino,\n",
    "            #'hra-llegada':hra_salida,\n",
    "            #'duracion':duracion,\n",
    "            #'num_vuelo':num_vuelo,\n",
    "            #'mod_avion':mod_avion\n",
    "        }\n",
    "        info_escalas.append(data_dict)\n",
    "        \n",
    "    return info_escalas"
   ]
  },
  {
   "cell_type": "code",
   "execution_count": 187,
   "metadata": {},
   "outputs": [
    {
     "data": {
      "text/plain": [
       "{'hora_salida': '12:43', 'hora_llegada': '14:40', 'duracion': 'PT20H57M'}"
      ]
     },
     "execution_count": 187,
     "metadata": {},
     "output_type": "execute_result"
    }
   ],
   "source": [
    "vuelos = driver.find_elements_by_xpath('//li[@class=\"flight\"]')\n",
    "vuelos\n",
    "vuelo = vuelos[0]\n",
    "obtener_tiempos(vuelo)"
   ]
  },
  {
   "cell_type": "code",
   "execution_count": 190,
   "metadata": {},
   "outputs": [],
   "source": [
    "def obtener_tiempos(vuelo):\n",
    "    '''\n",
    "    Funcion que retorna un diccionario con los horarios de salida y llegada de cada vuelo, incluyendo la duracion.\n",
    "    Nota: La duracion del vuelo no es la hora de llegada - la hora de salida porque puede haber diferencia de \n",
    "    horarios entre el origen y el destino.\n",
    "    '''\n",
    "    #Hora de salida\n",
    "    salida = vuelo.find_element_by_xpath('.//div[@class=\"departure\"]/time').get_attribute('datetime')\n",
    "    #Hora de llegada\n",
    "    llegada = vuelo.find_element_by_xpath('.//div[@class=\"arrival\"]/time').get_attribute('datetime')\n",
    "    #Duracion\n",
    "    duracion = vuelo.find_element_by_xpath('.//span[@class=\"duration\"]/time').get_attribute('datetime')\n",
    "    tiempos = {'hora_salida':salida,'hora_llegada':llegada,'duracion':duracion}\n",
    "    return tiempos"
   ]
  },
  {
   "cell_type": "code",
   "execution_count": 195,
   "metadata": {},
   "outputs": [],
   "source": [
    "def obtener_info(driver):\n",
    "    vuelos = driver.find_elements_by_xpath('//li[@class=\"flight\"]')\n",
    "    #print(f'Se encontraron {len[vuelos]} vuelos.')\n",
    "    print('Iniciando el scraping...')\n",
    "    info = []\n",
    "    for vuelo in vuelos:\n",
    "        #Obtenemos los tiempos generales de cada vuelo\n",
    "        tiempos = obtener_tiempos(vuelo)\n",
    "        #Clickeamos sobre el boton de escalas\n",
    "        vuelo.find_element_by_xpath('.//div[@class=\"flight-summary-stops-description\"]/button').click()\n",
    "        escalas = obtener_datos_escalas(vuelo)\n",
    "        #Cerrarmos el modal\n",
    "        driver.find_element_by_xpath('//div[@class=\"modal-content sc-iwsKbI eHVGAN\"]//button[@class=\"close\"]').click()\n",
    "        #Clickeamos el vuelo para ver los precios\n",
    "        vuelo.click()\n",
    "        precios = obtener_precios(vuelo)\n",
    "        vuelo.click()\n",
    "        info.append({'precios':precios, 'tiempos':tiempos, 'escalas':escalas})\n",
    "    return info"
   ]
  },
  {
   "cell_type": "code",
   "execution_count": 222,
   "metadata": {},
   "outputs": [],
   "source": [
    "import time"
   ]
  },
  {
   "cell_type": "code",
   "execution_count": 228,
   "metadata": {},
   "outputs": [],
   "source": [
    "#Modulos que nos ayudaran a que termine de cargar la pagina para que inicie el scraping\n",
    "from selenium.webdriver.support.ui import WebDriverWait\n",
    "from selenium.webdriver.support import expected_conditions as EC\n",
    "from selenium.webdriver.common.by import By\n",
    "from selenium.common.exceptions import TimeoutException"
   ]
  },
  {
   "cell_type": "code",
   "execution_count": 230,
   "metadata": {},
   "outputs": [
    {
     "name": "stdout",
     "output_type": "stream",
     "text": [
      "La pagina termino de cargar\n",
      "Iniciando el scraping...\n",
      "{'nombre': 'LIGHT', 'moneda': 'US$', 'valor': '455'}\n",
      "{'nombre': 'PLUS', 'moneda': 'US$', 'valor': '525'}\n",
      "{'nombre': 'TOP', 'moneda': 'US$', 'valor': '603'}\n",
      "{'nombre': 'LIGHT', 'moneda': 'US$', 'valor': '455'}\n",
      "{'nombre': 'PLUS', 'moneda': 'US$', 'valor': '525'}\n",
      "{'nombre': 'TOP', 'moneda': 'US$', 'valor': '603'}\n",
      "{'nombre': 'LIGHT', 'moneda': 'US$', 'valor': '532'}\n",
      "{'nombre': 'PLUS', 'moneda': 'US$', 'valor': '616'}\n",
      "{'nombre': 'TOP', 'moneda': 'US$', 'valor': '710'}\n",
      "{'nombre': 'LIGHT', 'moneda': 'US$', 'valor': '555'}\n",
      "{'nombre': 'PLUS', 'moneda': 'US$', 'valor': '633'}\n",
      "{'nombre': 'TOP', 'moneda': 'US$', 'valor': '717'}\n"
     ]
    }
   ],
   "source": [
    "options = webdriver.FirefoxOptions()\n",
    "options.add_argument(\"-private\")\n",
    "driver = webdriver.Firefox(options=options)\n",
    "driver.get(url)\n",
    "#Introducir una demora\n",
    "#time.sleep(10)\n",
    "delay = 15\n",
    "try:\n",
    "    #Introducir demora inteligente\n",
    "    vuelo = WebDriverWait(driver, delay).until(EC.presence_of_element_located((By.XPATH, '//li[@class=\"flight\"]')))\n",
    "    print(\"La pagina termino de cargar\")\n",
    "    info_vuelos = obtener_info(driver)\n",
    "except TimeoutException:\n",
    "    print('La pagina tardo demasiado en cargar.')\n",
    "    info_vuelos = []\n",
    "driver.close()"
   ]
  },
  {
   "cell_type": "code",
   "execution_count": null,
   "metadata": {},
   "outputs": [],
   "source": [
    "info_vuelos"
   ]
  },
  {
   "cell_type": "code",
   "execution_count": 221,
   "metadata": {},
   "outputs": [],
   "source": [
    "driver.close()"
   ]
  },
  {
   "cell_type": "code",
   "execution_count": null,
   "metadata": {},
   "outputs": [],
   "source": []
  },
  {
   "cell_type": "markdown",
   "metadata": {},
   "source": [
    "Paso 4: Cerrar el navegador"
   ]
  },
  {
   "cell_type": "code",
   "execution_count": 194,
   "metadata": {},
   "outputs": [],
   "source": [
    "#driver = webdriver.Firefox()\n",
    "driver.close()"
   ]
  },
  {
   "cell_type": "code",
   "execution_count": null,
   "metadata": {},
   "outputs": [],
   "source": []
  }
 ],
 "metadata": {
  "kernelspec": {
   "display_name": "Python 3",
   "language": "python",
   "name": "python3"
  },
  "language_info": {
   "codemirror_mode": {
    "name": "ipython",
    "version": 3
   },
   "file_extension": ".py",
   "mimetype": "text/x-python",
   "name": "python",
   "nbconvert_exporter": "python",
   "pygments_lexer": "ipython3",
   "version": "3.8.5"
  }
 },
 "nbformat": 4,
 "nbformat_minor": 4
}
